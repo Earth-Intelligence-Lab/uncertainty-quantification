{
 "cells": [
  {
   "cell_type": "markdown",
   "id": "d6107293",
   "metadata": {},
   "source": [
    "We estimate the fraction of deforestation in the\n",
    "Brazilian Amazon from 2000 to 2015, comparing confidence intervals across methods (map-only, classical, post-stratified, PPI, stratified, stratified PPI). We binarize the data (0=non-deforested, 1=deforested) and do mean estimation. \n",
    "\n",
    "Ground truth points are from Bullock et al: https://onlinelibrary.wiley.com/doi/abs/10.1111/gcb.15029\n",
    "\n",
    "Map product points are from NASA GFCC: https://developers.google.com/earth-engine/datasets/catalog/NASA_MEASURES_GFCC_TC_v3"
   ]
  },
  {
   "cell_type": "code",
   "execution_count": 1,
   "id": "e9a50016",
   "metadata": {},
   "outputs": [],
   "source": [
    "import os, sys\n",
    "sys.path.append(os.path.abspath(os.path.join(os.getcwd(), os.pardir)))\n",
    "import numpy as np\n",
    "import pandas as pd\n",
    "from tqdm import tqdm\n",
    "import matplotlib.pyplot as plt"
   ]
  },
  {
   "cell_type": "markdown",
   "id": "d4a226d5",
   "metadata": {},
   "source": [
    "# Load data"
   ]
  },
  {
   "cell_type": "markdown",
   "id": "2d96cdf9",
   "metadata": {},
   "source": [
    "Load ground truth points (with corresponding map product labels)."
   ]
  },
  {
   "cell_type": "code",
   "execution_count": 2,
   "id": "28b0bdc3",
   "metadata": {},
   "outputs": [
    {
     "name": "stderr",
     "output_type": "stream",
     "text": [
      "C:\\Users\\Kerri\\AppData\\Local\\Temp\\ipykernel_16944\\1809581140.py:7: FutureWarning: elementwise comparison failed; returning scalar instead, but in the future will perform elementwise comparison\n",
      "  deforestation_indices = np.where(np.array(types) == 'Deforestation')[0].tolist()\n"
     ]
    }
   ],
   "source": [
    "# Binarize ground truth and map product points for deforestation 2000-2015\n",
    "data = pd.read_csv('data/deforestation_ground_truth_with_covariates.csv')\n",
    "data = data.dropna(subset=['canopy2000', 'canopy2015'])\n",
    "data['Types']= data[['Type1', 'Type2', 'Type3']].values.tolist()\n",
    "data['Years']= data[['Year1', 'Year2', 'Year3']].values.tolist()\n",
    "def find_deforestation_years(types, years):\n",
    "    deforestation_indices = np.where(np.array(types) == 'Deforestation')[0].tolist()\n",
    "    return np.array(years)[deforestation_indices]\n",
    "data['Deforestation Years'] = data.apply(lambda x: find_deforestation_years(x.Types, x.Years), axis=1)\n",
    "def deforestation_in_2000_to_2015(deforestation_years):\n",
    "    if deforestation_years.size == 0:\n",
    "        return False\n",
    "    for year in deforestation_years:\n",
    "        if year >= 2000 and year <= 2015:\n",
    "            return True\n",
    "    return 'different years'\n",
    "data['Ground Truth Deforestation'] = data['Deforestation Years'].apply(deforestation_in_2000_to_2015)\n",
    "data['Ground Truth Deforestation in 2000 to 2015'] = data['Ground Truth Deforestation'].apply(lambda x: 1 if x is True else 0)\n",
    "data['ML Deforestation in 2000 to 2015 (percentage)'] = data['canopy2015']-data['canopy2000']\n",
    "data['ML Deforestation in 2000 to 2015'] = data['ML Deforestation in 2000 to 2015 (percentage)'].apply(lambda x: 0 if x > -25 else 1)"
   ]
  },
  {
   "cell_type": "markdown",
   "id": "55f5f3a6",
   "metadata": {},
   "source": [
    "The\n",
    "original ground truth dataset is obtained by stratified random sampling, using a stratification map (from Bullock et al https://onlinelibrary.wiley.com/doi/abs/10.1111/gcb.15029)\n",
    "that contains 7 strata related to deforestation status. We construct\n",
    "a “uniformly random sampled” ground truth dataset (with n=1386 points) by downsampling the points in each of the strata to\n",
    "match its area proportion. "
   ]
  },
  {
   "cell_type": "code",
   "execution_count": 3,
   "id": "8e4fde7d",
   "metadata": {},
   "outputs": [],
   "source": [
    "# Create \"destratified\" dataset by resampling strata points proportionally to strata area\n",
    "strata_to_number_samples = {1: 1016, 2: 94, 3: 48, 4: 96, 5: 31, 6: 5, 7: 96}\n",
    "\n",
    "destratified_data = pd.DataFrame()\n",
    "for stratum, N in strata_to_number_samples.items():\n",
    "    data_stratum = data[data['Strata_Code']==stratum]\n",
    "    rand_idx = np.random.RandomState(seed=42).permutation(len(data_stratum))\n",
    "    destratified_data_stratum = data_stratum.iloc[rand_idx[:N]]\n",
    "    destratified_data = pd.concat([destratified_data, destratified_data_stratum])\n",
    "    \n",
    "destratified_data = destratified_data.reset_index(drop=True)"
   ]
  },
  {
   "cell_type": "markdown",
   "id": "f3e06a69",
   "metadata": {},
   "source": [
    "Load ~1M uniformly random sampled, unlabeled map product points, to be used for tuning PPI lambda parameter."
   ]
  },
  {
   "cell_type": "code",
   "execution_count": 4,
   "id": "53bfa532",
   "metadata": {},
   "outputs": [],
   "source": [
    "# 1M map product points for tuning PPI lambda (lhat) parameter\n",
    "ml_data = pd.read_csv('data/deforestation_ml_points.csv')\n",
    "ml_data = ml_data.dropna(subset=['canopy2000', 'canopy2015'])\n",
    "ml_data['ML Deforestation in 2000 to 2015 (percentage)'] = ml_data['canopy2015']-ml_data['canopy2000']\n",
    "ml_data['ML Deforestation in 2000 to 2015'] = ml_data['ML Deforestation in 2000 to 2015 (percentage)'].apply(lambda x: 0 if x > -25 else 1)\n",
    "Yhat_unlabeled = np.array(ml_data[\"ML Deforestation in 2000 to 2015\"])"
   ]
  },
  {
   "cell_type": "markdown",
   "id": "f9072132",
   "metadata": {},
   "source": [
    "Load map product summary statistics (mean, variance, number of pixels), which were exported from Google Earth Engine. These will be used in map-only, post-stratified, PPI, and stratified PPI methods."
   ]
  },
  {
   "cell_type": "code",
   "execution_count": 5,
   "id": "f7f8179e",
   "metadata": {},
   "outputs": [],
   "source": [
    "ml_statistics = pd.read_csv('data/deforestation_ml_statistics.csv')\n",
    "Yhat_unlabeled_stats = dict(zip(ml_statistics['statistic'], ml_statistics['All']))"
   ]
  },
  {
   "cell_type": "code",
   "execution_count": 6,
   "id": "3097889b",
   "metadata": {},
   "outputs": [
    {
     "data": {
      "text/plain": [
       "{'num_pixels': 4369358055.0,\n",
       " 'mean': 0.054544098558807,\n",
       " 'variance': 0.0515690475397605}"
      ]
     },
     "execution_count": 6,
     "metadata": {},
     "output_type": "execute_result"
    }
   ],
   "source": [
    "Yhat_unlabeled_stats"
   ]
  },
  {
   "cell_type": "markdown",
   "id": "ba3c811a",
   "metadata": {},
   "source": [
    "Define ground truth and map product deforestation arrays (corresponding to the n=1386 ground truth locations)."
   ]
  },
  {
   "cell_type": "code",
   "execution_count": 7,
   "id": "c38563e9",
   "metadata": {},
   "outputs": [],
   "source": [
    "Y = np.array(destratified_data[\"Ground Truth Deforestation in 2000 to 2015\"])\n",
    "Yhat_data = destratified_data[\"ML Deforestation in 2000 to 2015\"]\n",
    "Yhat = np.array(Yhat_data)"
   ]
  },
  {
   "cell_type": "markdown",
   "id": "5249e252",
   "metadata": {},
   "source": [
    "# Methods "
   ]
  },
  {
   "cell_type": "markdown",
   "id": "d1417977",
   "metadata": {},
   "source": [
    "We will compare map-only, classical, post-stratified, PPI, stratified, and stratified PPI. \n",
    "\n",
    "Below we adapt the classical and PPI code (https://github.com/aangelopoulos/ppi_py) to use summary statistics (mean, variance, number of pixels) computed from map product, rather than using map product points directly. We get the summary stats from the 4.4 billion NASA GFCC pixels in Google Earth Engine.\n",
    "\n",
    "The following methods are useful if you wish to compute PPI confidence intervals, but only have the map product summary statistics available (e.g. because you do not want to export or store a full dataset containing billions of map product points). \n",
    "\n",
    "<b>ppi_mean_pointestimate_full_unlabeled_dataset</b> and <b>ppi_mean_ci_full_unlabeled_dataset</b> (adapted from ppi_mean_pointestimate and ppi_mean_ci from the ppi_py package) compute the PPI point estimate and confidence interval for mean estimation. Instead of taking in an array of map product values (Yhat_unlabeled), they take in a dictionary of summary statistics for the map product (Yhat_unlabeled_stats). So these functions read the mean, variance, and number of pixels directly from the dictionary instead of computing them from the array of map product values. Other than this, they use the same PPI formulas as the original package.\n",
    "\n",
    "Similarly, <b>classical_mean_ci_full_unlabeled_dataset</b> (adapted from classical_mean_ci from the ppi_py package) computes the classical confidence interval from the map product summary statistics rather than the map product point values. This is the same as the \"map-only estimator\" method described in the paper. \n",
    "\n",
    "<b>_calc_lhat_glm</b>, <b>construct_weight_vector</b>, and <b>reshape_to_2d</b> are helper functions copied over from the ppi_py package.\n",
    "\n",
    "<b>tune_lhat</b> computes the PPI++ lambda parameter from (<https://arxiv.org/abs/2311.01453> A. N. Angelopoulos, J. C. Duchi, and T. Zrnic. PPI++: Efficient Prediction Powered Inference. arxiv:2311.01453, 2023.). This code is also adapted from ppi_mean_ci from the ppi_py package. The output (lhat) will be used as an input to ppi_mean_ci_full_unlabeled_dataset to compute the PPI confidence interval. Currently, tune_lhat takes in an array of map product values Yhat_unlabeled (we use ~1M map product points for the tuning) rather than the summary statistics. Alternatively, you can just set lhat=1 in ppi_mean_ci_full_unlabeled_dataset to do PPI with no power tuning."
   ]
  },
  {
   "cell_type": "code",
   "execution_count": 8,
   "id": "03d9ddbb",
   "metadata": {},
   "outputs": [],
   "source": [
    "from ppi_py import ppi_mean_pointestimate\n",
    "from statsmodels.stats.weightstats import _zconfint_generic, _zstat_generic\n",
    "\n",
    "def ppi_mean_pointestimate_full_unlabeled_dataset(\n",
    "    Y,\n",
    "    Yhat,\n",
    "    Yhat_unlabeled_stats,\n",
    "    lhat,\n",
    "    w,\n",
    "):\n",
    "    map_only_mean = Yhat_unlabeled_stats['mean']\n",
    "    return lhat*map_only_mean + (w * (Y - lhat * Yhat)).mean(axis=0).squeeze()\n",
    "  \n",
    "\n",
    "def ppi_mean_ci_full_unlabeled_dataset(\n",
    "    Y,\n",
    "    Yhat,\n",
    "    Yhat_unlabeled_stats,\n",
    "    lhat,\n",
    "    alpha,\n",
    "    w=None,\n",
    "    alternative=\"two-sided\",\n",
    "):\n",
    "    n = Y.shape[0]\n",
    "    N = Yhat_unlabeled_stats['num_pixels']\n",
    "\n",
    "    Y = reshape_to_2d(Y)\n",
    "    Yhat = reshape_to_2d(Yhat)\n",
    "\n",
    "    w = construct_weight_vector(n, w, vectorized=True)\n",
    "    \n",
    "    ppi_pointest = ppi_mean_pointestimate_full_unlabeled_dataset(Y, Yhat, Yhat_unlabeled_stats, lhat, w)\n",
    "\n",
    "    map_only_std = lhat*np.sqrt(Yhat_unlabeled_stats['variance']) / np.sqrt(N)\n",
    "        \n",
    "    rectifier_std = (w * (Y - lhat * Yhat)).std(0) / np.sqrt(n)\n",
    "\n",
    "    return _zconfint_generic(\n",
    "        ppi_pointest,\n",
    "        np.sqrt(map_only_std**2 + rectifier_std**2),\n",
    "        alpha,\n",
    "        alternative,\n",
    "    )\n",
    "\n",
    "def classical_mean_ci_full_unlabeled_dataset(Y, alpha, alternative=\"two-sided\"):\n",
    "    \n",
    "    n = Y['num_pixels']\n",
    "    mean = Y['mean']\n",
    "    var = Y['variance']/n\n",
    "\n",
    "    return _zconfint_generic(\n",
    "        mean, np.sqrt(var), alpha, alternative\n",
    "    )\n",
    "\n",
    "def _calc_lhat_glm(\n",
    "    grads,\n",
    "    grads_hat,\n",
    "    grads_hat_unlabeled,\n",
    "    inv_hessian,\n",
    "    coord=None,\n",
    "    clip=False,\n",
    "    optim_mode=\"overall\",\n",
    "):\n",
    "    \"\"\"\n",
    "    Calculates the optimal value of lhat for the prediction-powered confidence interval for GLMs.\n",
    "\n",
    "    Args:\n",
    "        grads (ndarray): Gradient of the loss function with respect to the parameter evaluated at the labeled data.\n",
    "        grads_hat (ndarray): Gradient of the loss function with respect to the model parameter evaluated using predictions on the labeled data.\n",
    "        grads_hat_unlabeled (ndarray): Gradient of the loss function with respect to the parameter evaluated using predictions on the unlabeled data.\n",
    "        inv_hessian (ndarray): Inverse of the Hessian of the loss function with respect to the parameter.\n",
    "        coord (int, optional): Coordinate for which to optimize `lhat`, when `optim_mode=\"overall\"`.\n",
    "        If `None`, it optimizes the total variance over all coordinates. Must be in {1, ..., d} where d is the shape of the estimand.\n",
    "        clip (bool, optional): Whether to clip the value of lhat to be non-negative. Defaults to `False`.\n",
    "        optim_mode (ndarray, optional): Mode for which to optimize `lhat`, either `overall` or `element`.\n",
    "        If `overall`, it optimizes the total variance over all coordinates, and the function returns a scalar.\n",
    "        If `element`, it optimizes the variance for each coordinate separately, and the function returns a vector.\n",
    "\n",
    "\n",
    "    Returns:\n",
    "        float: Optimal value of `lhat`. Lies in [0,1].\n",
    "    \"\"\"\n",
    "    grads = reshape_to_2d(grads)\n",
    "    grads_hat = reshape_to_2d(grads_hat)\n",
    "    grads_hat_unlabeled = reshape_to_2d(grads_hat_unlabeled)\n",
    "    n = grads.shape[0]\n",
    "    N = grads_hat_unlabeled.shape[0]\n",
    "    d = inv_hessian.shape[0]\n",
    "    if grads.shape[1] != d:\n",
    "        raise ValueError(\n",
    "            \"Dimension mismatch between the gradient and the inverse Hessian.\"\n",
    "        )\n",
    "\n",
    "    grads_cent = grads - grads.mean(axis=0)\n",
    "    grad_hat_cent = grads_hat - grads_hat.mean(axis=0)\n",
    "    cov_grads = (1 / n) * (\n",
    "        grads_cent.T @ grad_hat_cent + grad_hat_cent.T @ grads_cent\n",
    "    )\n",
    "\n",
    "    var_grads_hat = np.cov(\n",
    "        np.concatenate([grads_hat, grads_hat_unlabeled], axis=0).T\n",
    "    )\n",
    "    var_grads_hat = var_grads_hat.reshape(d, d)\n",
    "\n",
    "    vhat = inv_hessian if coord is None else inv_hessian[coord, coord]\n",
    "    if optim_mode == \"overall\":\n",
    "        num = (\n",
    "            np.trace(vhat @ cov_grads @ vhat)\n",
    "            if coord is None\n",
    "            else vhat @ cov_grads @ vhat\n",
    "        )\n",
    "        denom = (\n",
    "            2 * (1 + (n / N)) * np.trace(vhat @ var_grads_hat @ vhat)\n",
    "            if coord is None\n",
    "            else 2 * (1 + (n / N)) * vhat @ var_grads_hat @ vhat\n",
    "        )\n",
    "        lhat = num / denom\n",
    "        lhat = lhat.item()\n",
    "    elif optim_mode == \"element\":\n",
    "        num = np.diag(vhat @ cov_grads @ vhat)\n",
    "        denom = 2 * (1 + (n / N)) * np.diag(vhat @ var_grads_hat @ vhat)\n",
    "        lhat = num / denom\n",
    "    else:\n",
    "        raise ValueError(\n",
    "            \"Invalid value for optim_mode. Must be either 'overall' or 'element'.\"\n",
    "        )\n",
    "    if clip:\n",
    "        lhat = np.clip(lhat, 0, 1)\n",
    "    return lhat\n",
    "\n",
    "def construct_weight_vector(n_obs, existing_weight, vectorized=False):\n",
    "    res = (\n",
    "        np.ones(n_obs)\n",
    "        if existing_weight is None\n",
    "        else existing_weight / existing_weight.sum() * n_obs\n",
    "    )\n",
    "    if vectorized and (len(res.shape) == 1):\n",
    "        res = res[:, None]\n",
    "    return res\n",
    "\n",
    "\n",
    "def reshape_to_2d(x):\n",
    "    \"\"\"Reshapes a 1D array to a 2D array.\"\"\"\n",
    "    return x.reshape(-1, 1) if len(x.shape) == 1 else x.copy()\n",
    "\n",
    "def tune_lhat(\n",
    "    Y,\n",
    "    Yhat,\n",
    "    Yhat_unlabeled,\n",
    "    w=None,\n",
    "    w_unlabeled=None,\n",
    "    lambd_optim_mode=\"overall\",\n",
    "):\n",
    "    \n",
    "    n = Y.shape[0]\n",
    "    N = Yhat_unlabeled.shape[0]\n",
    "    d = Y.shape[1] if len(Y.shape) > 1 else 1\n",
    "    \n",
    "    Y = reshape_to_2d(Y)\n",
    "    Yhat = reshape_to_2d(Yhat)\n",
    "    Yhat_unlabeled = reshape_to_2d(Yhat_unlabeled)\n",
    "    \n",
    "    w = construct_weight_vector(n, w, vectorized=True)\n",
    "    w_unlabeled = construct_weight_vector(N, w_unlabeled, vectorized=True)\n",
    "    \n",
    "    ppi_pointest = ppi_mean_pointestimate(\n",
    "            Y,\n",
    "            Yhat,\n",
    "            Yhat_unlabeled,\n",
    "            lhat=1,\n",
    "            w=w,\n",
    "            w_unlabeled=w_unlabeled,\n",
    "        )\n",
    "    grads = w * (Y - ppi_pointest)\n",
    "    grads_hat = w * (Yhat - ppi_pointest)\n",
    "    grads_hat_unlabeled = w_unlabeled * (Yhat_unlabeled - ppi_pointest)\n",
    "    inv_hessian = np.eye(d)\n",
    "    lhat = _calc_lhat_glm(\n",
    "        grads,\n",
    "        grads_hat,\n",
    "        grads_hat_unlabeled,\n",
    "        inv_hessian,\n",
    "        coord=None,\n",
    "        clip=True,\n",
    "        optim_mode=lambd_optim_mode,\n",
    "    )\n",
    "    return lhat"
   ]
  },
  {
   "cell_type": "markdown",
   "id": "e51773d1",
   "metadata": {},
   "source": [
    "Stratified mean estimation confidence interval code:"
   ]
  },
  {
   "cell_type": "code",
   "execution_count": 9,
   "id": "55c4f7c7",
   "metadata": {},
   "outputs": [],
   "source": [
    "def stratified_mean_ci(strata_to_weights, Y, Y_strata, alpha, alternative=\"two-sided\"):\n",
    "    mean = 0\n",
    "    squared_se = 0\n",
    "    for stratum, weight in strata_to_weights.items():\n",
    "        Y_stratum = Y[Y_strata==stratum]\n",
    "        n = Y_stratum.shape[0]\n",
    "        mean += weight*Y_stratum.mean()\n",
    "        squared_se += (weight**2)*Y_stratum.var()/n\n",
    "    return _zconfint_generic(\n",
    "        mean, np.sqrt(squared_se), alpha, alternative\n",
    "    )"
   ]
  },
  {
   "cell_type": "markdown",
   "id": "856f1210",
   "metadata": {},
   "source": [
    "# Non-stratified mean estimation"
   ]
  },
  {
   "cell_type": "markdown",
   "id": "d0b82efa",
   "metadata": {},
   "source": [
    "We compute map-only, classical, post-stratified, and PPI 95% confidence intervals for the \"uniformly random sampled\" dataset."
   ]
  },
  {
   "cell_type": "code",
   "execution_count": 10,
   "id": "472a0242",
   "metadata": {},
   "outputs": [],
   "source": [
    "def run_ppi(Y, Yhat, Yhat_unlabeled, Yhat_unlabeled_stats, alpha):     \n",
    "    results = []\n",
    "    \n",
    "    # Prediction-Powered Inference          \n",
    "    lhat = tune_lhat(Y, Yhat, Yhat_unlabeled)\n",
    "    print(\"lhat =\", lhat)\n",
    "    ppi_ci = ppi_mean_ci_full_unlabeled_dataset(Y, Yhat, Yhat_unlabeled_stats, lhat=lhat, alpha=alpha)\n",
    "    \n",
    "    # Post-stratified method (equivalent to stratified where Yhat are the strata labels)\n",
    "    ml_map_deforestation_proportion = Yhat_unlabeled_stats['mean']\n",
    "    ml_label_to_weight = {0: 1-ml_map_deforestation_proportion, 1: ml_map_deforestation_proportion}\n",
    "    post_stratified_ci = stratified_mean_ci(ml_label_to_weight, Y, Yhat, alpha=alpha)\n",
    "\n",
    "    # Classical interval (set lhat=0 so Yhat are not used)\n",
    "    classical_ci = ppi_mean_ci_full_unlabeled_dataset(Y, Yhat, Yhat_unlabeled_stats, lhat=0, alpha=alpha)\n",
    "\n",
    "    # Append results\n",
    "    results += [\n",
    "        pd.DataFrame(\n",
    "            [\n",
    "                {\n",
    "                    \"method\": \"PPI\",\n",
    "                    \"n\": np.nan,\n",
    "                    \"lower\": ppi_ci[0],\n",
    "                    \"upper\": ppi_ci[1],\n",
    "                    \"trial\": 0,\n",
    "                }\n",
    "            ]\n",
    "        )\n",
    "    ]\n",
    "    results += [\n",
    "        pd.DataFrame(\n",
    "            [\n",
    "                {\n",
    "                    \"method\": \"Post-stratified\",\n",
    "                    \"n\": np.nan,\n",
    "                    \"lower\": post_stratified_ci[0],\n",
    "                    \"upper\": post_stratified_ci[1],\n",
    "                    \"trial\": 0,\n",
    "                }\n",
    "            ]\n",
    "        )\n",
    "    ]\n",
    "    results += [\n",
    "        pd.DataFrame(\n",
    "            [\n",
    "                {\n",
    "                    \"method\": \"Classical\",\n",
    "                    \"n\": np.nan,\n",
    "                    \"lower\": classical_ci[0],\n",
    "                    \"upper\": classical_ci[1],\n",
    "                    \"trial\": 0,\n",
    "                }\n",
    "            ]\n",
    "        )\n",
    "    ]\n",
    "\n",
    "    # Map-only CI\n",
    "    \n",
    "    map_only_ci = classical_mean_ci_full_unlabeled_dataset(Yhat_unlabeled_stats, alpha=alpha)\n",
    "    results += [\n",
    "        pd.DataFrame(\n",
    "            [\n",
    "                {\n",
    "                    \"method\": \"Map-only\",\n",
    "                    \"n\": np.nan,\n",
    "                    \"lower\": map_only_ci[0],\n",
    "                    \"upper\": map_only_ci[1],\n",
    "                    \"trial\": 0,\n",
    "                }\n",
    "            ]\n",
    "        )\n",
    "    ]\n",
    "\n",
    "    df = pd.concat(results, axis=0, ignore_index=True)\n",
    "    df[\"width\"] = df[\"upper\"] - df[\"lower\"]\n",
    "    df[\"estimate\"] = 0.5*(df[\"upper\"] + df[\"lower\"])\n",
    "    return df"
   ]
  },
  {
   "cell_type": "code",
   "execution_count": 11,
   "id": "5eca4dfc",
   "metadata": {},
   "outputs": [
    {
     "name": "stdout",
     "output_type": "stream",
     "text": [
      "lhat = 0.7108544356336779\n"
     ]
    }
   ],
   "source": [
    "df = run_ppi(Y, Yhat, Yhat_unlabeled, Yhat_unlabeled_stats, alpha=0.05)"
   ]
  },
  {
   "cell_type": "markdown",
   "id": "67460523",
   "metadata": {},
   "source": [
    "Visualize computed confidence intervals"
   ]
  },
  {
   "cell_type": "code",
   "execution_count": 12,
   "id": "305073d0",
   "metadata": {},
   "outputs": [
    {
     "data": {
      "text/plain": [
       "Text(0.5, 0, 'Mean deforestation')"
      ]
     },
     "execution_count": 12,
     "metadata": {},
     "output_type": "execute_result"
    },
    {
     "data": {
      "image/png": "[encoded data removed]",
      "text/plain": [
       "<Figure size 640x480 with 1 Axes>"
      ]
     },
     "metadata": {},
     "output_type": "display_data"
    }
   ],
   "source": [
    "ppi_results = df.loc[(df['method'] == 'PPI')]\n",
    "ppi_avg_estimates = ppi_results['estimate'].mean(axis=0)\n",
    "ppi_avg_widths = ppi_results['width'].mean(axis=0)\n",
    "\n",
    "post_stratified_results = df.loc[(df['method'] == 'Post-stratified')]\n",
    "post_stratified_avg_estimates = post_stratified_results['estimate'].mean(axis=0)\n",
    "post_stratified_avg_widths = post_stratified_results['width'].mean(axis=0)\n",
    "\n",
    "classical_results = df.loc[(df['method'] == 'Classical')]\n",
    "classical_avg_estimates = classical_results['estimate'].mean(axis=0)\n",
    "classical_avg_widths = classical_results['width'].mean(axis=0)\n",
    "classical_avg_widths_original = classical_avg_widths\n",
    "\n",
    "map_only_estimates = df.loc[df['method']=='Map-only']['estimate'].mean(axis=0)\n",
    "map_only_widths = df.loc[df['method']=='Map-only']['width'].mean(axis=0)\n",
    "\n",
    "# https://stackoverflow.com/questions/59747313/how-can-i-plot-a-confidence-interval-in-python\n",
    "data_dict = {}\n",
    "ppi_effective_n = int(len(Y)*(classical_avg_widths/ppi_avg_widths)**2)\n",
    "post_stratified_effective_n = int(len(Y)*(classical_avg_widths/post_stratified_avg_widths)**2)\n",
    "data_dict['category'] = ['PPI',\n",
    "                         'Post-stratified',\n",
    "                         'Classical',\n",
    "                         'Map-only']\n",
    "data_dict['lower'] = [ppi_avg_estimates - ppi_avg_widths/2, \n",
    "                      post_stratified_avg_estimates - post_stratified_avg_widths/2, \n",
    "                      classical_avg_estimates - classical_avg_widths/2, \n",
    "                      map_only_estimates - map_only_widths/2]\n",
    "data_dict['upper'] = [ppi_avg_estimates + ppi_avg_widths/2, \n",
    "                      post_stratified_avg_estimates + post_stratified_avg_widths/2, \n",
    "                      classical_avg_estimates + classical_avg_widths/2, \n",
    "                      map_only_estimates + map_only_widths/2]\n",
    "data_dict['effective sample size'] = [ppi_effective_n, post_stratified_effective_n, np.nan, np.nan]\n",
    "dataset = pd.DataFrame(data_dict)\n",
    "\n",
    "for lower,upper,y in zip(dataset['lower'],dataset['upper'],range(len(dataset))):\n",
    "    plt.plot((lower,upper),(y,y),'ro-')\n",
    "plt.yticks(range(len(dataset)),list(dataset['category']))\n",
    "plt.xlabel(f'Mean deforestation')\n",
    "#plt.legend() "
   ]
  },
  {
   "cell_type": "markdown",
   "id": "5f4a6782",
   "metadata": {},
   "source": [
    "# Stratified mean estimation"
   ]
  },
  {
   "cell_type": "markdown",
   "id": "b80b88b8",
   "metadata": {},
   "source": [
    "For a fair comparison, we downsample the original stratified ground truth\n",
    "dataset to match the size of the “uniformly random” dataset (n=1386). We also compute the point weights that will be used for stratified PPI."
   ]
  },
  {
   "cell_type": "code",
   "execution_count": 13,
   "id": "ec8c766d",
   "metadata": {},
   "outputs": [],
   "source": [
    "strata_to_weights = {1: 0.732074512720708, # forest\n",
    "                     2: 0.0677266963680275, # no forest\n",
    "                     3: 0.0347025249349238, # deforestation\n",
    "                     4: 0.0693684421320928, # D/ND\n",
    "                     5: 0.02274148508064, # D/ND and deforestation\n",
    "                     6: 0.00378489055612081, # regrowth\n",
    "                     7: 0.0696014482075254} # buffer"
   ]
  },
  {
   "cell_type": "code",
   "execution_count": 14,
   "id": "6e451ee2",
   "metadata": {},
   "outputs": [],
   "source": [
    "# Downsample stratified dataset to 1386 points (to match destratified dataset)\n",
    "data = data.reset_index(drop=True)\n",
    "rand_idx = np.random.RandomState(seed=42).permutation(len(data))\n",
    "downsampled_data = data.iloc[rand_idx[:1386]]\n",
    "\n",
    "Y = np.array(downsampled_data[[\"Ground Truth Deforestation in 2000 to 2015\"]])\n",
    "Y_strata = np.array(downsampled_data[\"Strata_Code\"])\n",
    "Yhat = np.array(downsampled_data[[\"ML Deforestation in 2000 to 2015\"]])\n",
    "\n",
    "downsampled_data_strata_sizes = dict(downsampled_data[\"Strata_Code\"].value_counts())\n",
    "weights = np.array(downsampled_data['Strata_Code'].apply(lambda x: strata_to_weights[x]/downsampled_data_strata_sizes[x]))\n",
    "\n",
    "ml_data_strata_sizes = dict(ml_data[\"strata\"].value_counts())\n",
    "weights_unlabeled = np.array(ml_data['strata'].apply(lambda x: strata_to_weights[x]/ml_data_strata_sizes[x]))"
   ]
  },
  {
   "cell_type": "markdown",
   "id": "54e66fb9",
   "metadata": {},
   "source": [
    "We compute stratified and PPI stratified 95% confidence intervals for the stratified dataset."
   ]
  },
  {
   "cell_type": "code",
   "execution_count": 15,
   "id": "890a29b8",
   "metadata": {},
   "outputs": [],
   "source": [
    "def run_ppi_stratified(Y_strata, Y, Yhat, Yhat_unlabeled, Yhat_unlabeled_stats, weights, weights_unlabeled, alpha):     \n",
    "    results = []\n",
    "    # Stratified Prediction-Powered Inference\n",
    "    lhat = tune_lhat(Y, Yhat, Yhat_unlabeled, w=weights, w_unlabeled=weights_unlabeled)\n",
    "    print(\"lhat =\", lhat)\n",
    "    stratified_ppi_ci = ppi_mean_ci_full_unlabeled_dataset(Y, Yhat, Yhat_unlabeled_stats, lhat=lhat, alpha=alpha, w=weights)\n",
    "\n",
    "    # Stratified interval\n",
    "    stratified_ci = stratified_mean_ci(strata_to_weights, Y, Y_strata, alpha=alpha)\n",
    "\n",
    "    # Append results\n",
    "    results += [\n",
    "        pd.DataFrame(\n",
    "            [\n",
    "                {\n",
    "                    \"method\": \"PPI Stratified\",\n",
    "                    \"n\": np.nan,\n",
    "                    \"lower\": stratified_ppi_ci[0],\n",
    "                    \"upper\": stratified_ppi_ci[1],\n",
    "                    \"trial\": 0,\n",
    "                }\n",
    "            ]\n",
    "        )\n",
    "    ]\n",
    "    results += [\n",
    "        pd.DataFrame(\n",
    "            [\n",
    "                {\n",
    "                    \"method\": \"Stratified\",\n",
    "                    \"n\": np.nan,\n",
    "                    \"lower\": stratified_ci[0],\n",
    "                    \"upper\": stratified_ci[1],\n",
    "                    \"trial\": 0,\n",
    "                }\n",
    "            ]\n",
    "        )\n",
    "    ]\n",
    "\n",
    "    df = pd.concat(results, axis=0, ignore_index=True)\n",
    "    df[\"width\"] = df[\"upper\"] - df[\"lower\"]\n",
    "    df[\"estimate\"] = 0.5*(df[\"upper\"] + df[\"lower\"])\n",
    "    return df"
   ]
  },
  {
   "cell_type": "code",
   "execution_count": 16,
   "id": "62ff5aa6",
   "metadata": {},
   "outputs": [
    {
     "name": "stdout",
     "output_type": "stream",
     "text": [
      "lhat = 0.488583944443802\n"
     ]
    }
   ],
   "source": [
    "df = run_ppi_stratified(Y_strata, Y, Yhat, Yhat_unlabeled, Yhat_unlabeled_stats, weights, weights_unlabeled, alpha=0.05)"
   ]
  },
  {
   "cell_type": "markdown",
   "id": "88aa9cd8",
   "metadata": {},
   "source": [
    "Visualize the computed confidence intervals."
   ]
  },
  {
   "cell_type": "code",
   "execution_count": 17,
   "id": "40304736",
   "metadata": {},
   "outputs": [
    {
     "data": {
      "text/plain": [
       "Text(0.5, 0, 'Mean deforestation')"
      ]
     },
     "execution_count": 17,
     "metadata": {},
     "output_type": "execute_result"
    },
    {
     "data": {
      "image/png": "[encoded data removed]",
      "text/plain": [
       "<Figure size 640x480 with 1 Axes>"
      ]
     },
     "metadata": {},
     "output_type": "display_data"
    }
   ],
   "source": [
    "ppi_stratified_results = df.loc[(df['method'] == 'PPI Stratified')]\n",
    "ppi_stratified_avg_estimates = ppi_stratified_results['estimate'].mean(axis=0)\n",
    "ppi_stratified_avg_widths = ppi_stratified_results['width'].mean(axis=0)\n",
    "\n",
    "stratified_results = df.loc[(df['method'] == 'Stratified')]\n",
    "stratified_avg_estimates = stratified_results['estimate'].mean(axis=0)\n",
    "stratified_avg_widths = stratified_results['width'].mean(axis=0)\n",
    "\n",
    "# https://stackoverflow.com/questions/59747313/how-can-i-plot-a-confidence-interval-in-python\n",
    "data_dict = {}\n",
    "stratified_effective_n = int(1386*(classical_avg_widths_original/stratified_avg_widths)**2)\n",
    "ppi_stratified_effective_n = int(1386*(classical_avg_widths_original/ppi_stratified_avg_widths)**2)\n",
    "data_dict['category'] = [f'PPI Stratified',\n",
    "                         f'Stratified']\n",
    "\n",
    "data_dict['lower'] = [ppi_stratified_avg_estimates - ppi_stratified_avg_widths/2, stratified_avg_estimates - stratified_avg_widths/2]\n",
    "data_dict['upper'] = [ppi_stratified_avg_estimates + ppi_stratified_avg_widths/2, stratified_avg_estimates + stratified_avg_widths/2]\n",
    "data_dict['effective sample size'] = [ppi_stratified_effective_n, stratified_effective_n]\n",
    "dataset2 = pd.DataFrame(data_dict)\n",
    "\n",
    "for lower,upper,y in zip(dataset2['lower'],dataset2['upper'],range(len(dataset2))):\n",
    "    plt.plot((lower,upper),(y,y),'ro-')\n",
    "plt.yticks(range(len(dataset2)),list(dataset2['category']))\n",
    "plt.xlabel(f'Mean deforestation')\n",
    "#plt.legend()"
   ]
  },
  {
   "cell_type": "markdown",
   "id": "9dd2ec07",
   "metadata": {},
   "source": [
    "# Visualize all results in one figure"
   ]
  },
  {
   "cell_type": "code",
   "execution_count": 18,
   "id": "d259aa60",
   "metadata": {},
   "outputs": [],
   "source": [
    "plt.rcParams[\"font.sans-serif\"] = \"Arial\"\n",
    "\n",
    "plt.rc('font', size=24)          \n",
    "plt.rc('axes', titlesize=24)     \n",
    "plt.rc('axes', labelsize=24)    \n",
    "plt.rc('xtick', labelsize=24)    \n",
    "plt.rc('ytick', labelsize=24)    \n",
    "plt.rc('figure', titlesize=24)"
   ]
  },
  {
   "cell_type": "code",
   "execution_count": 19,
   "id": "e3616dcd",
   "metadata": {},
   "outputs": [
    {
     "data": {
      "image/png": "[encoded data removed]",
      "text/plain": [
       "<Figure size 640x480 with 1 Axes>"
      ]
     },
     "metadata": {},
     "output_type": "display_data"
    }
   ],
   "source": [
    "dataset_final = pd.concat([dataset2, dataset])\n",
    "colors = ['blue', 'blue', 'blue', 'blue', 'green', 'red']\n",
    "\n",
    "ax = plt.gca()\n",
    "ax.spines['top'].set_visible(False)\n",
    "ax.spines['right'].set_visible(False)\n",
    "ax.spines['left'].set_visible(False)\n",
    "\n",
    "for lower,upper,effective_n,y in zip(dataset_final['lower'],dataset_final['upper'],dataset_final['effective sample size'], range(len(dataset_final))):\n",
    "        plt.scatter([(lower+upper)/2], [y], color=colors[y], s=100)\n",
    "        plt.scatter([lower, upper], [y, y], color=colors[y], marker='|', s=150)\n",
    "        plt.plot((lower,upper),(y,y),color=colors[y])\n",
    "        if y in [0, 1, 2, 3]:\n",
    "            plt.text((lower+upper)/2, (y+0.2), f'effective n = {int(effective_n)}', fontsize = 22)\n",
    "        plt.yticks(np.arange(len(dataset_final)),list(dataset_final['category']))\n",
    "        \n",
    "plt.xlabel(f'Deforestation fraction')\n",
    "plt.savefig(f'output_images/deforestation_mean.png', dpi=300, bbox_inches='tight')\n",
    "plt.show()"
   ]
  }
 ],
 "metadata": {
  "kernelspec": {
   "display_name": "Python 3 (ipykernel)",
   "language": "python",
   "name": "python3"
  },
  "language_info": {
   "codemirror_mode": {
    "name": "ipython",
    "version": 3
   },
   "file_extension": ".py",
   "mimetype": "text/x-python",
   "name": "python",
   "nbconvert_exporter": "python",
   "pygments_lexer": "ipython3",
   "version": "3.9.7"
  }
 },
 "nbformat": 4,
 "nbformat_minor": 5
}
